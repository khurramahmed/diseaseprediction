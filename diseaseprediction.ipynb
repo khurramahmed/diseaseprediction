{
  "nbformat": 4,
  "nbformat_minor": 0,
  "metadata": {
    "colab": {
      "provenance": [],
      "authorship_tag": "ABX9TyMeIPV9gYXZxVPPNu1KXLBW",
      "include_colab_link": true
    },
    "kernelspec": {
      "name": "python3",
      "display_name": "Python 3"
    },
    "language_info": {
      "name": "python"
    }
  },
  "cells": [
    {
      "cell_type": "markdown",
      "metadata": {
        "id": "view-in-github",
        "colab_type": "text"
      },
      "source": [
        "<a href=\"https://colab.research.google.com/github/khurramahmed/diseaseprediction/blob/main/diseaseprediction.ipynb\" target=\"_parent\"><img src=\"https://colab.research.google.com/assets/colab-badge.svg\" alt=\"Open In Colab\"/></a>"
      ]
    },
    {
      "cell_type": "code",
      "execution_count": 3,
      "metadata": {
        "id": "7c_C6cfvFEPx"
      },
      "outputs": [],
      "source": [
        "import pandas as pd\n",
        "import numpy as np\n",
        "import matplotlib.pyplot as plt\n",
        "from sklearn.feature_selection import SelectKBest\n",
        "from sklearn.feature_selection import chi2\n",
        "from sklearn.ensemble import ExtraTreesClassifier\n",
        "import seaborn as sns\n",
        "from sklearn.preprocessing import LabelEncoder\n",
        "from sklearn.neighbors import KNeighborsClassifier"
      ]
    },
    {
      "cell_type": "code",
      "source": [
        "trainurl = 'https://raw.githubusercontent.com/khurramahmed/diseaseprediction/main/Training.csv'"
      ],
      "metadata": {
        "id": "LBXq0isqGCEz"
      },
      "execution_count": 4,
      "outputs": []
    },
    {
      "cell_type": "code",
      "source": [
        "train = pd.read_csv(trainurl)\n",
        "train = train.iloc[:,0:133]"
      ],
      "metadata": {
        "id": "Z-svt07dGCrq"
      },
      "execution_count": 44,
      "outputs": []
    },
    {
      "cell_type": "code",
      "source": [
        "train.head()"
      ],
      "metadata": {
        "id": "n94tUfzpGCw3"
      },
      "execution_count": null,
      "outputs": []
    },
    {
      "cell_type": "code",
      "source": [
        "print(train['prognosis'].unique())"
      ],
      "metadata": {
        "colab": {
          "base_uri": "https://localhost:8080/"
        },
        "id": "U-_JoSMnJZqb",
        "outputId": "9dfabe85-3b1c-4214-f208-eb859645f161"
      },
      "execution_count": 46,
      "outputs": [
        {
          "output_type": "stream",
          "name": "stdout",
          "text": [
            "['Fungal infection' 'Allergy' 'GERD' 'Chronic cholestasis' 'Drug Reaction'\n",
            " 'Peptic ulcer diseae' 'AIDS' 'Diabetes ' 'Gastroenteritis'\n",
            " 'Bronchial Asthma' 'Hypertension ' 'Migraine' 'Cervical spondylosis'\n",
            " 'Paralysis (brain hemorrhage)' 'Jaundice' 'Malaria' 'Chicken pox'\n",
            " 'Dengue' 'Typhoid' 'hepatitis A' 'Hepatitis B' 'Hepatitis C'\n",
            " 'Hepatitis D' 'Hepatitis E' 'Alcoholic hepatitis' 'Tuberculosis'\n",
            " 'Common Cold' 'Pneumonia' 'Dimorphic hemmorhoids(piles)' 'Heart attack'\n",
            " 'Varicose veins' 'Hypothyroidism' 'Hyperthyroidism' 'Hypoglycemia'\n",
            " 'Osteoarthristis' 'Arthritis' '(vertigo) Paroymsal  Positional Vertigo'\n",
            " 'Acne' 'Urinary tract infection' 'Psoriasis' 'Impetigo']\n"
          ]
        }
      ]
    },
    {
      "cell_type": "code",
      "source": [
        "le = LabelEncoder()\n",
        "train.iloc[:,132] = le.fit_transform(train.iloc[:,132])\n",
        "train.head()"
      ],
      "metadata": {
        "id": "CKMcM305N6Mv"
      },
      "execution_count": null,
      "outputs": []
    },
    {
      "cell_type": "code",
      "source": [
        "def Encoder(df):\n",
        "          columnsToEncode = list(df.select_dtypes(include=['category','object']))\n",
        "          le = LabelEncoder()\n",
        "          for feature in columnsToEncode:\n",
        "              try:\n",
        "                  df[feature] = le.fit_transform(df[feature])\n",
        "              except:\n",
        "                  print('Error encoding '+feature)\n",
        "          return df"
      ],
      "metadata": {
        "id": "inT6VZrhVjq8"
      },
      "execution_count": 13,
      "outputs": []
    },
    {
      "cell_type": "code",
      "source": [
        "def Decoder(df):\n",
        "          columnsToEncode = list(df.select_dtypes(include=['category','object']))\n",
        "          le = LabelEncoder()\n",
        "          for feature in columnsToEncode:\n",
        "              try:\n",
        "                  df[feature] = le.inverse_transform(df[feature])\n",
        "              except:\n",
        "                  print('Error encoding '+feature)\n",
        "          return df"
      ],
      "metadata": {
        "id": "LK5gnWafLu3m"
      },
      "execution_count": 38,
      "outputs": []
    },
    {
      "cell_type": "code",
      "source": [
        "train = Encoder(train)\n",
        "train.head()"
      ],
      "metadata": {
        "id": "PCtAakgbGC0u"
      },
      "execution_count": null,
      "outputs": []
    },
    {
      "cell_type": "code",
      "source": [
        "train.isnull()"
      ],
      "metadata": {
        "id": "Mjn__mgLKpTI"
      },
      "execution_count": null,
      "outputs": []
    },
    {
      "cell_type": "code",
      "source": [
        "y = train.iloc[:,-1] # Training labels"
      ],
      "metadata": {
        "id": "O9P3xVH1GC3_"
      },
      "execution_count": 59,
      "outputs": []
    },
    {
      "cell_type": "code",
      "source": [
        "x = train.iloc[:,0:132] # Training features"
      ],
      "metadata": {
        "id": "NA_uN1UZKSPn"
      },
      "execution_count": 60,
      "outputs": []
    },
    {
      "cell_type": "code",
      "source": [
        "x.head()"
      ],
      "metadata": {
        "id": "ty1o4QJRMMxw"
      },
      "execution_count": null,
      "outputs": []
    },
    {
      "cell_type": "code",
      "source": [
        "y.head()"
      ],
      "metadata": {
        "id": "HrdXct4rXdoq"
      },
      "execution_count": null,
      "outputs": []
    },
    {
      "cell_type": "code",
      "source": [
        "model = ExtraTreesClassifier()\n",
        "model.fit(x,y)\n",
        "print(model.feature_importances_) # Higher the score, more important is the feature towards explaining the output variable."
      ],
      "metadata": {
        "id": "AGCaQiicGC9O"
      },
      "execution_count": null,
      "outputs": []
    },
    {
      "cell_type": "code",
      "source": [
        "importance = pd.Series(model.feature_importances_, index = x.columns)"
      ],
      "metadata": {
        "id": "P_CaoM2bGC_r"
      },
      "execution_count": 64,
      "outputs": []
    },
    {
      "cell_type": "code",
      "source": [
        "importance.nlargest(20).index"
      ],
      "metadata": {
        "id": "Ca4yVLJHRXSR"
      },
      "execution_count": null,
      "outputs": []
    },
    {
      "cell_type": "code",
      "source": [
        "importance.nlargest(20).plot(kind = 'barh')"
      ],
      "metadata": {
        "id": "sH227iD3GDCA"
      },
      "execution_count": null,
      "outputs": []
    },
    {
      "cell_type": "code",
      "source": [
        "for_matrix = train[['muscle_pain', 'itching', 'yellowing_of_eyes', 'unsteadiness',\n",
        "       'vomiting', 'altered_sensorium', 'dark_urine', 'diarrhoea',\n",
        "       'chest_pain', 'lack_of_concentration', 'abnormal_menstruation',\n",
        "       'fatigue', 'mild_fever', 'joint_pain', 'mucoid_sputum',\n",
        "       'muscle_weakness', 'high_fever', 'increased_appetite',\n",
        "       'passage_of_gases', 'prognosis']]"
      ],
      "metadata": {
        "id": "UfjhV-fxSwe6"
      },
      "execution_count": 67,
      "outputs": []
    },
    {
      "cell_type": "code",
      "source": [
        "for_matrix.head()"
      ],
      "metadata": {
        "id": "ztRaOn2fQtDj"
      },
      "execution_count": null,
      "outputs": []
    },
    {
      "cell_type": "code",
      "source": [
        "corrmat = for_matrix.corr()\n",
        "corr_important_features = corrmat.index"
      ],
      "metadata": {
        "id": "k2zZfRDLPF-L"
      },
      "execution_count": 69,
      "outputs": []
    },
    {
      "cell_type": "code",
      "source": [
        "plt.figure(figsize = (20,20))\n",
        "corr_heatmap = sns.heatmap(for_matrix[corr_important_features].corr(), annot = True, cmap = 'RdYlGn')"
      ],
      "metadata": {
        "id": "EdsDUf0dPF7c"
      },
      "execution_count": null,
      "outputs": []
    },
    {
      "cell_type": "code",
      "source": [
        "# Variables with high correlation to prognosis are itching unsteadiness (-0.26), diarrhoea (0.29), mild_fever (0.2), and joint_pain (0.23)"
      ],
      "metadata": {
        "id": "jYoZB2gAPF4v"
      },
      "execution_count": null,
      "outputs": []
    },
    {
      "cell_type": "code",
      "source": [
        "classifier = KNeighborsClassifier(n_neighbors=101, metric = 'hamming')\n",
        "classifier.fit(x, y)"
      ],
      "metadata": {
        "id": "xZ1_6AHHPF2F"
      },
      "execution_count": null,
      "outputs": []
    },
    {
      "cell_type": "code",
      "source": [
        "testurl= \"https://raw.githubusercontent.com/khurramahmed/diseaseprediction/main/Testing.csv\""
      ],
      "metadata": {
        "id": "aro99P3iPFzd"
      },
      "execution_count": 72,
      "outputs": []
    },
    {
      "cell_type": "code",
      "source": [
        "test = pd.read_csv(testurl)\n",
        "test.iloc[:,132] = le.fit_transform(test.iloc[:,132])\n",
        "test.head()"
      ],
      "metadata": {
        "id": "HSKos1wLPFwm"
      },
      "execution_count": null,
      "outputs": []
    },
    {
      "cell_type": "code",
      "source": [
        "y_test = test.iloc[:,-1]\n",
        "x_test = test.iloc[:,0:132]"
      ],
      "metadata": {
        "id": "BCMFAl3KPFtc"
      },
      "execution_count": 102,
      "outputs": []
    },
    {
      "cell_type": "code",
      "source": [
        "y_pred = classifier.predict(x_test)"
      ],
      "metadata": {
        "id": "TXriRnIDPFqa"
      },
      "execution_count": 103,
      "outputs": []
    },
    {
      "cell_type": "code",
      "source": [
        "from sklearn.metrics import classification_report, confusion_matrix\n",
        "print(confusion_matrix(y_test, y_pred))\n",
        "print(classification_report(y_test, y_pred))"
      ],
      "metadata": {
        "colab": {
          "base_uri": "https://localhost:8080/"
        },
        "id": "oxf_OJv1hNGF",
        "outputId": "cce38e9f-0b67-4d25-83b4-4ae555029150"
      },
      "execution_count": 104,
      "outputs": [
        {
          "output_type": "stream",
          "name": "stdout",
          "text": [
            "[[1 0 0 ... 0 0 0]\n",
            " [0 1 0 ... 0 0 0]\n",
            " [0 0 1 ... 0 0 0]\n",
            " ...\n",
            " [0 0 0 ... 1 0 0]\n",
            " [0 0 0 ... 0 1 0]\n",
            " [0 0 0 ... 0 0 1]]\n",
            "              precision    recall  f1-score   support\n",
            "\n",
            "           0       1.00      1.00      1.00         1\n",
            "           1       1.00      1.00      1.00         1\n",
            "           2       1.00      1.00      1.00         1\n",
            "           3       1.00      1.00      1.00         1\n",
            "           4       1.00      1.00      1.00         1\n",
            "           5       1.00      1.00      1.00         1\n",
            "           6       1.00      1.00      1.00         1\n",
            "           7       1.00      1.00      1.00         1\n",
            "           8       1.00      1.00      1.00         1\n",
            "           9       1.00      1.00      1.00         1\n",
            "          10       1.00      1.00      1.00         1\n",
            "          11       1.00      1.00      1.00         1\n",
            "          12       1.00      1.00      1.00         1\n",
            "          13       1.00      1.00      1.00         1\n",
            "          14       1.00      1.00      1.00         1\n",
            "          15       1.00      1.00      1.00         2\n",
            "          16       1.00      1.00      1.00         1\n",
            "          17       1.00      1.00      1.00         1\n",
            "          18       1.00      1.00      1.00         1\n",
            "          19       1.00      1.00      1.00         1\n",
            "          20       1.00      1.00      1.00         1\n",
            "          21       1.00      1.00      1.00         1\n",
            "          22       1.00      1.00      1.00         1\n",
            "          23       1.00      1.00      1.00         1\n",
            "          24       1.00      1.00      1.00         1\n",
            "          25       1.00      1.00      1.00         1\n",
            "          26       1.00      1.00      1.00         1\n",
            "          27       1.00      1.00      1.00         1\n",
            "          28       1.00      1.00      1.00         1\n",
            "          29       1.00      1.00      1.00         1\n",
            "          30       1.00      1.00      1.00         1\n",
            "          31       1.00      1.00      1.00         1\n",
            "          32       1.00      1.00      1.00         1\n",
            "          33       1.00      1.00      1.00         1\n",
            "          34       1.00      1.00      1.00         1\n",
            "          35       1.00      1.00      1.00         1\n",
            "          36       1.00      1.00      1.00         1\n",
            "          37       1.00      1.00      1.00         1\n",
            "          38       1.00      1.00      1.00         1\n",
            "          39       1.00      1.00      1.00         1\n",
            "          40       1.00      1.00      1.00         1\n",
            "\n",
            "    accuracy                           1.00        42\n",
            "   macro avg       1.00      1.00      1.00        42\n",
            "weighted avg       1.00      1.00      1.00        42\n",
            "\n"
          ]
        }
      ]
    }
  ]
}